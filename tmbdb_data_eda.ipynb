{
 "cells": [
  {
   "cell_type": "code",
   "execution_count": null,
   "id": "20ef6f1c",
   "metadata": {},
   "outputs": [],
   "source": [
    "import pandas as pd\n",
    "import seaborn as sns\n",
    "import matplotlib.pyplot as plt\n",
    "import numpy as np\n",
    "from scipy.stats import ks_2samp\n",
    "from scipy.stats import mannwhitneyu\n",
    "from scipy.stats import zscore\n",
    "import plotly.express as px\n",
    "from sklearn.feature_extraction.text import CountVectorizer\n",
    "from superlinked import framework as sl\n",
    "from datetime import timedelta, datetime\n",
    "\n",
    "\n",
    "pd.set_option('display.max_columns', None)\n",
    "data = pd.read_csv('TMDB_movie_dataset_v11.csv')"
   ]
  },
  {
   "cell_type": "code",
   "execution_count": null,
   "id": "feb4652f",
   "metadata": {},
   "outputs": [],
   "source": [
    "data.info()"
   ]
  },
  {
   "cell_type": "code",
   "execution_count": null,
   "id": "1d3efd8d",
   "metadata": {},
   "outputs": [],
   "source": [
    "data.head()"
   ]
  },
  {
   "cell_type": "markdown",
   "id": "ba96f6b1",
   "metadata": {},
   "source": [
    "We can clean this data as first step and keep the most relevant part. Some features are not necessary for this analysis and we can make also some consideration or focus on the dataset, like focusing only on english movies. "
   ]
  },
  {
   "cell_type": "markdown",
   "id": "b5fab9fd",
   "metadata": {},
   "source": [
    "Clean dataset from unwanted variables"
   ]
  },
  {
   "cell_type": "code",
   "execution_count": null,
   "id": "77dc9de7",
   "metadata": {},
   "outputs": [],
   "source": [
    "# variable status\n",
    "data.status.value_counts(dropna=False)"
   ]
  },
  {
   "cell_type": "markdown",
   "id": "3d1aee14",
   "metadata": {},
   "source": [
    "I dont care about non released movies. Neither about adult movies"
   ]
  },
  {
   "cell_type": "code",
   "execution_count": null,
   "id": "a1d1f8a1",
   "metadata": {},
   "outputs": [],
   "source": [
    "# variable adult\n",
    "data.adult.value_counts(dropna=False)"
   ]
  },
  {
   "cell_type": "code",
   "execution_count": null,
   "id": "74fbb211",
   "metadata": {},
   "outputs": [],
   "source": [
    "# variable original language\n",
    "data.original_language.value_counts(dropna=False, normalize=True)"
   ]
  },
  {
   "cell_type": "markdown",
   "id": "d333cf85",
   "metadata": {},
   "source": [
    "Half of the movies are in english then it goes to 5% for french..."
   ]
  },
  {
   "cell_type": "code",
   "execution_count": null,
   "id": "b662e9b4",
   "metadata": {},
   "outputs": [],
   "source": [
    "# variable spoken languages when original language is english\n",
    "data[data.original_language == 'en'].spoken_languages.value_counts(dropna=False, normalize=True)"
   ]
  },
  {
   "cell_type": "markdown",
   "id": "bda6535c",
   "metadata": {},
   "source": [
    "We have 80% of english original movies language speaking in english, let s assume we can get rid of this feature keep all movies in english."
   ]
  },
  {
   "cell_type": "code",
   "execution_count": null,
   "id": "f7e03f84",
   "metadata": {},
   "outputs": [],
   "source": [
    "# filter data\n",
    "data = data[(data.original_language == 'en')&\n",
    "            (data.status == 'Released')&\n",
    "            (data.adult == False)&\n",
    "            (data.release_date.notna())].drop(columns=['original_language', 'spoken_languages', 'status', 'adult', \"backdrop_path\", \"homepage\", \"imdb_id\", \"poster_path\"])\n"
   ]
  },
  {
   "cell_type": "code",
   "execution_count": null,
   "id": "4b6bee54",
   "metadata": {},
   "outputs": [],
   "source": [
    "data.info()"
   ]
  },
  {
   "cell_type": "markdown",
   "id": "e791b5dc",
   "metadata": {},
   "source": [
    "# Does release date affects votes (count and average) ?\n",
    "\n",
    "Indepandently to all others features, we want to know if the release date or moment in the year affect positively or negatively the vote"
   ]
  },
  {
   "cell_type": "code",
   "execution_count": null,
   "id": "b21f546e",
   "metadata": {},
   "outputs": [],
   "source": [
    "data[['vote_count', 'vote_average']].describe()"
   ]
  },
  {
   "cell_type": "code",
   "execution_count": null,
   "id": "51b451d6",
   "metadata": {},
   "outputs": [],
   "source": [
    "fig, axes = plt.subplots(1, 2, figsize=(14, 5))\n",
    "\n",
    "votes = data[['vote_count', 'vote_average']].replace([np.inf, -np.inf], np.nan).dropna()\n",
    "\n",
    "sns.histplot(votes, x=\"vote_count\", bins=20, kde=True, log_scale=True, ax=axes[0])\n",
    "axes[0].set_title(\"Vote Count\")\n",
    "axes[0].set_xlabel(\"Vote Count\")\n",
    "axes[0].set_ylabel(\"Frequency\")\n",
    "\n",
    "sns.histplot(votes, x=\"vote_average\", bins=20, kde=True, log_scale=True, ax=axes[1])\n",
    "axes[1].set_title(\"Vote Average\")\n",
    "axes[1].set_xlabel(\"Vote Average\")\n",
    "axes[1].set_ylabel(\"Frequency\")\n",
    "\n",
    "plt.tight_layout()\n",
    "plt.show()"
   ]
  },
  {
   "cell_type": "markdown",
   "id": "53c2f73c",
   "metadata": {},
   "source": [
    "We see clearly that the two distribution look like power distribution skwed left then right."
   ]
  },
  {
   "cell_type": "code",
   "execution_count": null,
   "id": "bba2dbda",
   "metadata": {},
   "outputs": [],
   "source": [
    "# correlation with log transformation\n",
    "np.log1p(data[['vote_count', 'vote_average']]).corr()"
   ]
  },
  {
   "cell_type": "code",
   "execution_count": null,
   "id": "26c39e20",
   "metadata": {},
   "outputs": [],
   "source": [
    "df_plot = np.log1p(data[data['vote_count'] > 0][['vote_count', 'vote_average']].dropna())\n",
    "\n",
    "plt.figure(figsize=(10, 6))\n",
    "\n",
    "# plot the relationshipe between vote count and vote average\n",
    "sns.scatterplot(data=df_plot, x='vote_count', y='vote_average', alpha=0.3)\n",
    "\n",
    "plt.xlabel('Vote Count (log scale)')\n",
    "plt.ylabel('Vote Average')\n",
    "plt.title('Vote Average vs. Vote Count (Log Scale)')\n",
    "plt.tight_layout()\n",
    "plt.show()"
   ]
  },
  {
   "cell_type": "markdown",
   "id": "cfd505c9",
   "metadata": {},
   "source": [
    "There is a trend defined. More a movie has votes more it seems to be appreciated by the public. In other words, people tend to vote for the movie they like."
   ]
  },
  {
   "cell_type": "code",
   "execution_count": null,
   "id": "f688f9fa",
   "metadata": {},
   "outputs": [],
   "source": [
    "# transform realease date to datetime\n",
    "data['release_date'] = pd.to_datetime(data['release_date'], errors='coerce')\n",
    "\n",
    "# add a column for the month of the release\n",
    "data['release_month'] = data['release_date'].dt.month_name()\n",
    "\n",
    "# add a column for the year of the release\n",
    "data['release_year'] = data['release_date'].dt.year\n",
    "\n",
    "# add a column for the day of the release\n",
    "data['release_day'] = data['release_date'].dt.day_name()"
   ]
  },
  {
   "cell_type": "code",
   "execution_count": null,
   "id": "6026a08c",
   "metadata": {},
   "outputs": [],
   "source": [
    "# insert order in mobths and years\n",
    "month_order = ['January', 'February', 'March', 'April', 'May', 'June',\n",
    "               'July', 'August', 'September', 'October', 'November', 'December']\n",
    "data['release_month'] = pd.Categorical(data['release_month'], categories=month_order, ordered=True)\n",
    "\n",
    "days_order = [\"Monday\", \"Tuesday\", \"Wednesday\", \"Thursday\", \"Friday\", \"Saturday\", \"Sunday\"]\n",
    "data[\"release_day\"] = pd.Categorical(data[\"release_day\"], categories=days_order, ordered=True)\n",
    "\n",
    "years = data.release_year\n",
    "months = data.release_month\n",
    "days = data.release_day\n",
    "\n",
    "\n",
    "# plot distribution movies releases per years, months and days\n",
    "fig, axes = plt.subplots(1, 3, figsize=(14, 5))\n",
    "\n",
    "sns.histplot(years, bins=20, kde=True, log_scale=False, ax=axes[0])\n",
    "axes[0].set_title(\"Distribution of Release Years\")\n",
    "axes[0].set_xlabel(\"Release Year\")\n",
    "axes[0].set_ylabel(\"Count\")\n",
    "\n",
    "sns.histplot(months, bins=20, kde=True, log_scale=False, ax=axes[1])\n",
    "axes[1].set_title(\"Distribution of Release Months\")\n",
    "axes[1].set_xlabel(\"Release Month\")\n",
    "axes[1].set_ylabel(\"Count\")\n",
    "\n",
    "sns.histplot(days, bins=20, kde=True, log_scale=False, ax=axes[2])\n",
    "axes[2].set_title(\"Distribution of Release Days\")\n",
    "axes[2].set_xlabel(\"Release Days\")\n",
    "axes[2].set_ylabel(\"Count\")\n",
    "\n",
    "plt.setp(axes[1].get_xticklabels(), rotation=45)\n",
    "plt.setp(axes[2].get_xticklabels(), rotation=45)\n",
    "plt.tight_layout()\n",
    "plt.show()"
   ]
  },
  {
   "cell_type": "markdown",
   "id": "47c763f1",
   "metadata": {},
   "source": [
    "We first of al see that there is more and more movies release along the years. This is denoted a new pattern of cinema studios and more and more investiment in the cinema industry. \n",
    "\n",
    "We have a peak of releases during the month of January - why ? \n",
    "\n",
    "We see here that the release of movies is quite uniform along the days but we see also a slight peak on Friday, this can be due to probably the weekend. "
   ]
  },
  {
   "cell_type": "markdown",
   "id": "ee3ec8c6",
   "metadata": {},
   "source": [
    "try to explain this gap in January from release year distribution"
   ]
  },
  {
   "cell_type": "code",
   "execution_count": null,
   "id": "769f5604",
   "metadata": {},
   "outputs": [],
   "source": [
    "# Split dataset\n",
    "january_movies = data[data['release_month'] == 'January']\n",
    "other_movies = data[data['release_month'] != 'January']\n",
    "\n",
    "# Plot distributions of release_year\n",
    "plt.figure(figsize=(10, 5))\n",
    "\n",
    "sns.histplot(january_movies['release_year'], bins=30, color='blue', label='January', kde=True, stat='density')\n",
    "sns.histplot(other_movies['release_year'], bins=30, color='orange', label='Other Months', kde=True, stat='density', alpha=0.6)\n",
    "\n",
    "plt.title(\"Distribution of Release Year: January vs Other Months\")\n",
    "plt.xlabel(\"Release Year\")\n",
    "plt.ylabel(\"Density\")\n",
    "plt.legend()\n",
    "plt.tight_layout()\n",
    "plt.show()\n",
    "\n",
    "# Extract the release years as arrays (drop NaNs)\n",
    "x = january_movies['release_year'].dropna()\n",
    "y = other_movies['release_year'].dropna()\n",
    "\n",
    "# Perform the two-sample KS test\n",
    "ks_stat, p_value = ks_2samp(x, y)\n",
    "\n",
    "print(f\"KS Statistic: {ks_stat:.4f}\")\n",
    "print(f\"P-Value: {p_value:.4f}\")\n",
    "\n",
    "# Interpretation\n",
    "if p_value < 0.05:\n",
    "    print(\"✅ The distributions are significantly different (reject H0).\")\n",
    "else:\n",
    "    print(\"🟡 The distributions are not significantly different (fail to reject H0).\")"
   ]
  },
  {
   "cell_type": "markdown",
   "id": "121625c3",
   "metadata": {},
   "source": [
    "The KS statistic, or Kolmogorov-Smirnov statistic, is a measure used in the Kolmogorov-Smirnov test to assess the similarity between two probability distributions. It quantifies the maximum vertical distance between the cumulative distribution functions (CDFs) of the two distributions being compared. Essentially, it helps determine how different two distributions are by measuring the largest discrepancy between their cumulative probabilities. \n",
    "\n",
    "We reject the null hypothesis.\n",
    "\n",
    "There is strong evidence that the distribution of release years in January is different from that in the other months.\n",
    "\n",
    "This supports your hypothesis:\n",
    "January is disproportionately populated with older movies, especially pre-2000 ones.\n",
    "\n",
    "\n",
    "\n",
    "what would be the minimale year include ? to smooth the distribution on release month, to get it uniform"
   ]
  },
  {
   "cell_type": "code",
   "execution_count": null,
   "id": "b0cf73dd",
   "metadata": {},
   "outputs": [],
   "source": [
    "# Group by release year\n",
    "year_counts = data.groupby('release_year').size()\n",
    "january_counts = data[data['release_month'] == 'January'].groupby('release_year').size()\n",
    "\n",
    "# Combine into one DataFrame\n",
    "year_df = pd.DataFrame({\n",
    "    'total': year_counts,\n",
    "    'january': january_counts\n",
    "}).fillna(0)\n",
    "\n",
    "# Calculate % of January movies per year\n",
    "year_df['jan_percent'] = 100 * year_df['january'] / year_df['total']\n",
    "\n",
    "# Plot\n",
    "fig, ax1 = plt.subplots(figsize=(12, 6))\n",
    "year_df['jan_percent'].plot(ax=ax1, color='red', label='% January', linewidth=2)\n",
    "\n",
    "# Labels\n",
    "ax1.set_xlabel('Release Year')\n",
    "ax1.set_ylabel('% Released in January')\n",
    "ax1.set_title('Total Movies January Release Share')\n",
    "fig.legend(loc='upper left')\n",
    "\n",
    "plt.setp(ax1.get_xticklabels(), rotation=90)\n",
    "plt.tight_layout()\n",
    "plt.show()\n"
   ]
  },
  {
   "cell_type": "markdown",
   "id": "ac8b99e0",
   "metadata": {},
   "source": [
    "Before 1980:\n",
    "\n",
    "Extremely volatile and artificially high % of movies released in January — in some years it's over 50% or even 100%.\n",
    "\n",
    "This strongly suggests default or placeholder dates, possibly due to missing metadata.\n",
    "\n",
    "\n",
    "1980–1999:\n",
    "\n",
    "Still elevated and noisy, but stabilizing.\n",
    "\n",
    "January still over-represented in many years (30–40%).\n",
    "\n",
    "\n",
    "2000 onward:\n",
    "\n",
    "Much more stable.\n",
    "\n",
    "January release share gradually declines below 20%, which feels realistic.\n",
    "\n",
    "\n",
    "Let s take release_year>=1990 to include most of the modern hollywood cinema (John Doe, Tarantino, Die Hard 2, The matrix)\n",
    "\n",
    "After research on the web apparently January month is called the dump month, it is the moment when studios release movies they are less confident in it. So let s investigate, using the popularity varibale.\n"
   ]
  },
  {
   "cell_type": "code",
   "execution_count": null,
   "id": "14038fe2",
   "metadata": {},
   "outputs": [],
   "source": [
    "# filter data\n",
    "data = data[(data.release_year>=1990)&(data.release_year<=2022)]"
   ]
  },
  {
   "cell_type": "code",
   "execution_count": null,
   "id": "6f64edd4",
   "metadata": {},
   "outputs": [],
   "source": [
    "# plot boxplot of popularity per month\n",
    "plt.figure(figsize=(12, 6))\n",
    "sns.boxplot(x='release_month', y='popularity', data=data)\n",
    "plt.xticks(rotation=45)\n",
    "plt.title('Distribution of Popularity by Release Month')\n",
    "plt.xlabel('Release Month')\n",
    "plt.ylabel('Popularity')\n",
    "plt.tight_layout()\n",
    "plt.show()\n",
    "\n",
    "# apply Mann–Whitney U test\n",
    "jan_pop = np.log1p(data[data['release_month'] == 'January']['popularity'])\n",
    "other_pop = np.log1p(data[data['release_month'] != 'January']['popularity'])\n",
    "print(f\"January median popularity: {jan_pop.median():.2f}\")\n",
    "print(f\"Other months median popularity: {other_pop.median():.2f}\")\n",
    "stat, p = mannwhitneyu(jan_pop, other_pop, alternative='less')  # one-sided test\n",
    "\n",
    "print(f\"Mann–Whitney U statistic: {stat:.2f}\")\n",
    "print(f\"P-value: {p:.4f}\")\n",
    "\n",
    "if p < 0.05:\n",
    "    print(\"✅ January movies have significantly lower popularity.\")\n",
    "else:\n",
    "    print(\"🟡 No significant difference in popularity.\")"
   ]
  },
  {
   "cell_type": "markdown",
   "id": "06cc8659",
   "metadata": {},
   "source": [
    "The Mann-Whitney U test, also known as the Wilcoxon rank-sum test, is a non-parametric statistical test used to compare two independent groups. It determines if there's a statistically significant difference between the medians (or distributions) of the two groups, particularly when the data is not normally distributed or when the assumptions of parametric tests like the independent samples t-test are violated. "
   ]
  },
  {
   "cell_type": "markdown",
   "id": "f17b1fce",
   "metadata": {},
   "source": [
    "Let s focus on how the time affect the vote count and vote average."
   ]
  },
  {
   "cell_type": "code",
   "execution_count": null,
   "id": "e0ff06bc",
   "metadata": {},
   "outputs": [],
   "source": [
    "stats_years = data.groupby('release_year', observed=True).agg(\n",
    "    avg_votes=('vote_count', 'mean'),\n",
    "    avg_rating=('vote_average', 'mean'),\n",
    "    n_movies=('id', 'count')\n",
    ").reset_index()\n",
    "\n",
    "stats_months = data.groupby('release_month', observed=True).agg(\n",
    "    avg_votes=('vote_count', 'mean'),\n",
    "    avg_rating=('vote_average', 'mean'),\n",
    "    n_movies=('id', 'count')\n",
    ").reset_index()\n",
    "\n",
    "# Set plot style\n",
    "# sns.set(style='whitegrid')\n",
    "\n",
    "# Create 2x2 subplots\n",
    "fig, axes = plt.subplots(2, 2, figsize=(14, 8))\n",
    "\n",
    "# Plot 1: Average vote count by year\n",
    "sns.lineplot(data=stats_years, x='release_year', y='avg_votes', ax=axes[0, 0])\n",
    "axes[0, 0].set_title('Avg Vote Count by Year')\n",
    "axes[0, 0].set_xlabel('Release Year')\n",
    "axes[0, 0].set_ylabel('Vote Count')\n",
    "\n",
    "# Plot 2: Average vote rating by year\n",
    "sns.lineplot(data=stats_years, x='release_year', y='avg_rating', ax=axes[0, 1])\n",
    "axes[0, 1].set_title('Avg Vote Rating by Year')\n",
    "axes[0, 1].set_xlabel('Release Year')\n",
    "axes[0, 1].set_ylabel('Vote Average')\n",
    "\n",
    "# Plot 3: Average vote count by month\n",
    "sns.barplot(data=stats_months, x='release_month', y='avg_votes', ax=axes[1, 0])\n",
    "axes[1, 0].set_title('Avg Vote Count by Month')\n",
    "axes[1, 0].set_xlabel('Release Month')\n",
    "axes[1, 0].set_ylabel('Vote Count')\n",
    "axes[1, 0].tick_params(axis='x', rotation=45)\n",
    "\n",
    "# Plot 4: Average vote rating by month\n",
    "sns.barplot(data=stats_months, x='release_month', y='avg_rating', ax=axes[1, 1])\n",
    "axes[1, 1].set_title('Avg Vote Rating by Month')\n",
    "axes[1, 1].set_xlabel('Release Month')\n",
    "axes[1, 1].set_ylabel('Vote Average')\n",
    "axes[1, 1].tick_params(axis='x', rotation=45)\n",
    "\n",
    "plt.tight_layout()\n",
    "plt.show()"
   ]
  },
  {
   "cell_type": "markdown",
   "id": "8e345928",
   "metadata": {},
   "source": [
    "Top Left: Average Vote Count by Year\n",
    "\n",
    "What we see:\n",
    "1. From 1990–2015: relatively high and stable average vote counts (between ~55 and 75).\n",
    "2. From 2016–2022: clear downward trend, especially steep after 2020.\n",
    "\n",
    "Interpretation:\n",
    "1. Newer movies haven’t had enough time to accumulate votes → **recency bias**.\n",
    "2. This decline is not quality-driven, but a data maturity issue.\n",
    "\n",
    "**Suggestion**: Consider filtering out the last 3–5 years for some analyses.\n",
    "\n",
    "\n",
    "Top Right: Average Vote Rating by Year\n",
    "\n",
    "What we see:\n",
    "1. Fairly stable rating ~2.4–2.6 from 1995 to 2018.\n",
    "2. Dramatic drop after 2019, especially in 2021–2023.\n",
    "\n",
    "Interpretation:\n",
    "1. Again, possibly a data artifact — newer movies might:\n",
    "2. Not have enough votes to average out rating bias.\n",
    "3. Attract early ratings from fans/critics only.\n",
    "4. post-pandemic changes in audience behavior or production quality?\n",
    "\n",
    "\n",
    "Bottom Left: Average Vote Count by Month\n",
    "\n",
    "What we see:\n",
    "1. January has the lowest vote count — massive drop.\n",
    "2. Summer (June–August) and December have the highest average vote counts.\n",
    "\n",
    "Interpretation:\n",
    "1. Confirms the “dump month” theory for January.\n",
    "2. Blockbuster-heavy months like July and December get more attention → more votes.\n",
    "\n",
    "\n",
    "Bottom Right: Average Vote Rating by Month\n",
    "\n",
    "What we see:\n",
    "1. January again at the bottom (~1.8 avg), while September and March–April are higher (~2.6).\n",
    "2. Middle months vary slightly but don’t diverge much.\n",
    "\n",
    "Interpretation:\n",
    "1. Further supports the dump-month effect — January films tend to be lower rated.\n",
    "2. Late summer and early fall might include festival, Oscar-contending, or better-reviewed films.\n"
   ]
  },
  {
   "cell_type": "code",
   "execution_count": null,
   "id": "c9d1a871",
   "metadata": {},
   "outputs": [],
   "source": [
    "# apply suggestion\n",
    "data = data[data.release_year<=data.release_year.max()-5]"
   ]
  },
  {
   "cell_type": "markdown",
   "id": "9154508b",
   "metadata": {},
   "source": [
    "If the years and the months affect the organization of the cinema studio and the release of their movies, I should see also this behavior in the budget and in the revenue. Also, the genre and the runtime of the movie will be affected. I suppose. \n",
    "\n",
    "Let's analyze how the budget, revenue, and runtime are affected through the years and also across the months of the year. Also, how through times the genre of the movie changes. What kind of movie are more released than before? Or is there a specific genre for a specific month. "
   ]
  },
  {
   "cell_type": "markdown",
   "id": "c12a8bb8",
   "metadata": {},
   "source": [
    "# Analyze Time vs Budget, Revenue, Runtime and Genres\n",
    "\n",
    "How do release timing (year, month) influence budget, revenue, runtime, and genre?"
   ]
  },
  {
   "cell_type": "code",
   "execution_count": null,
   "id": "07e5159e",
   "metadata": {},
   "outputs": [],
   "source": [
    "#remove rows with budget/revenue = 0 (if relevant)\n",
    "data = data[(data['budget'] > 0) & (data['revenue'] > 0) & (data['runtime'] > 0)]"
   ]
  },
  {
   "cell_type": "code",
   "execution_count": null,
   "id": "c6250467",
   "metadata": {},
   "outputs": [],
   "source": [
    "# Aggregate stats by year and month\n",
    "stats_years = data.groupby('release_year', observed=True).agg(\n",
    "    avg_budget=('budget', 'mean'),\n",
    "    avg_revenue=('revenue', 'mean'),\n",
    "    avg_runtime=('runtime', 'mean'),\n",
    "    n_movies=('id', 'count')\n",
    ").reset_index()\n",
    "\n",
    "stats_months = data.groupby('release_month', observed=True).agg(\n",
    "    avg_budget=('budget', 'mean'),\n",
    "    avg_revenue=('revenue', 'mean'),\n",
    "    avg_runtime=('runtime', 'mean'),\n",
    "    n_movies=('id', 'count')\n",
    ").reset_index()"
   ]
  },
  {
   "cell_type": "code",
   "execution_count": null,
   "id": "e2717e5d",
   "metadata": {},
   "outputs": [],
   "source": [
    "fig, axes = plt.subplots(2, 3, figsize=(18, 8))\n",
    "\n",
    "# By Year\n",
    "sns.lineplot(data=stats_years, x='release_year', y='avg_budget', ax=axes[0, 0])\n",
    "axes[0, 0].set_title('Avg Budget by Year')\n",
    "sns.lineplot(data=stats_years, x='release_year', y='avg_revenue', ax=axes[0, 1])\n",
    "axes[0, 1].set_title('Avg Revenue by Year')\n",
    "sns.lineplot(data=stats_years, x='release_year', y='avg_runtime', ax=axes[0, 2])\n",
    "axes[0, 2].set_title('Avg Runtime by Year')\n",
    "\n",
    "# By Month\n",
    "sns.barplot(data=stats_months, x='release_month', y='avg_budget', ax=axes[1, 0])\n",
    "axes[1, 0].set_title('Avg Budget by Month')\n",
    "axes[1, 0].tick_params(axis='x', rotation=45)\n",
    "\n",
    "sns.barplot(data=stats_months, x='release_month', y='avg_revenue', ax=axes[1, 1])\n",
    "axes[1, 1].set_title('Avg Revenue by Month')\n",
    "axes[1, 1].tick_params(axis='x', rotation=45)\n",
    "\n",
    "sns.barplot(data=stats_months, x='release_month', y='avg_runtime', ax=axes[1, 2])\n",
    "axes[1, 2].set_title('Avg Runtime by Month')\n",
    "axes[1, 2].tick_params(axis='x', rotation=45)\n",
    "\n",
    "plt.tight_layout()\n",
    "plt.show()"
   ]
  },
  {
   "cell_type": "code",
   "execution_count": null,
   "id": "1e5d620f",
   "metadata": {},
   "outputs": [],
   "source": [
    "# Replace NaNs with an empty string to avoid errors\n",
    "data['genres_clean'] = data['genres'].fillna('')\n",
    "\n",
    "# Initialize the CountVectorizer\n",
    "vectorizer = CountVectorizer(tokenizer=lambda x: x.split(', '), binary=True)\n",
    "\n",
    "# Transform into matrix with data_genres_train\n",
    "data_genres_train = data[data.genres_clean!='']\n",
    "genre_matrix = vectorizer.fit_transform(data_genres_train['genres_clean'])\n",
    "\n",
    "# get feature names\n",
    "genre_labels = vectorizer.get_feature_names_out()\n",
    "\n",
    "# convert to pd df\n",
    "genre_df = pd.DataFrame(genre_matrix.toarray(), columns=genre_labels, index=data_genres_train.index)\n",
    "\n",
    "# concat\n",
    "data_genres = pd.concat([data_genres_train, genre_df], axis=1)\n"
   ]
  },
  {
   "cell_type": "code",
   "execution_count": null,
   "id": "8dbcf3c6",
   "metadata": {},
   "outputs": [],
   "source": [
    "# group by years and apply the sum\n",
    "genre_by_year = data_genres.groupby('release_year')[genre_labels].sum()\n",
    "\n",
    "# Normalize to proportions per month\n",
    "genre_by_year = genre_by_year.div(genre_by_year.sum(axis=1), axis=0).reset_index()\n",
    "\n",
    "# Melt into long format for Plotly\n",
    "genre_melted = genre_by_year.melt(\n",
    "    id_vars='release_year',\n",
    "    value_vars=genre_labels,\n",
    "    var_name='Genre',\n",
    "    value_name='Proportion'\n",
    ")\n",
    "\n",
    "# Create the stacked bar chart\n",
    "fig = px.bar(\n",
    "    genre_melted,\n",
    "    x='release_year',\n",
    "    y='Proportion',\n",
    "    color='Genre',\n",
    "    title='Distribution Genres per Year',\n",
    "    labels={'release_month': 'Year', 'Proportion': 'Proportion'}\n",
    ")\n",
    "\n",
    "fig.update_layout(barmode='stack', xaxis_tickangle=45, height=600)\n",
    "fig.show()"
   ]
  },
  {
   "cell_type": "code",
   "execution_count": null,
   "id": "5e7ecfcd",
   "metadata": {},
   "outputs": [],
   "source": [
    "# Group by month\n",
    "genre_by_month = data_genres.groupby('release_month')[genre_labels].sum()\n",
    "\n",
    "# Normalize to proportions per month\n",
    "genre_by_month = genre_by_month.div(genre_by_month.sum(axis=1), axis=0).reset_index()\n",
    "\n",
    "# Melt into long format for Plotly\n",
    "genre_melted = genre_by_month.melt(\n",
    "    id_vars='release_month',\n",
    "    value_vars=genre_labels,\n",
    "    var_name='Genre',\n",
    "    value_name='Proportion'\n",
    ")\n",
    "\n",
    "# Create the stacked bar chart\n",
    "fig = px.bar(\n",
    "    genre_melted,\n",
    "    x='release_month',\n",
    "    y='Proportion',\n",
    "    color='Genre',\n",
    "    title='Distribution Genres per Month',\n",
    "    category_orders={'release_month': month_order},\n",
    "    labels={'release_month': 'Month', 'Proportion': 'Proportion'}\n",
    ")\n",
    "\n",
    "fig.update_layout(barmode='stack', xaxis_tickangle=45, height=600)\n",
    "fig.show()"
   ]
  },
  {
   "cell_type": "code",
   "execution_count": null,
   "id": "d7439def",
   "metadata": {},
   "outputs": [],
   "source": []
  },
  {
   "cell_type": "markdown",
   "id": "e37d3c92",
   "metadata": {},
   "source": [
    "# SuperLinked"
   ]
  },
  {
   "cell_type": "code",
   "execution_count": null,
   "id": "680d778c",
   "metadata": {},
   "outputs": [],
   "source": [
    "\n",
    "class MovieSchema(sl.Schema):\n",
    "    id: sl.IdField\n",
    "    title: sl.String | None\n",
    "    rating: sl.Float | None\n",
    "    release_date: sl.Timestamp | None\n",
    "    runtime: sl.Integer | None\n",
    "    overview: sl.String | None\n",
    "    genres: sl.StringList | None\n",
    "    keywords: sl.StringList | None\n",
    "    \n",
    "# class UserSchema(sl.Schema):\n",
    "#     id: sl.IdField\n",
    "#     preference_title: sl.String | None\n",
    "#     preference_rating: sl.Float | None\n",
    "#     preference_release_date: sl.Timestamp | None\n",
    "#     preference_runtime: sl.Integer | None\n",
    "#     preference_overview: sl.String | None\n",
    "#     preference_genres: sl.StringList | None\n",
    "#     preference_keywords: sl.StringList | None"
   ]
  },
  {
   "cell_type": "code",
   "execution_count": null,
   "id": "3c32c523",
   "metadata": {},
   "outputs": [],
   "source": [
    "# initialize schemas\n",
    "movie = MovieSchema()\n",
    "# user = UserSchema()"
   ]
  },
  {
   "cell_type": "code",
   "execution_count": null,
   "id": "d670622d",
   "metadata": {},
   "outputs": [],
   "source": [
    "l = data.keywords.dropna().unique().tolist()\n",
    "keywords = []\n",
    "for e in l:\n",
    "    keywords.extend(e.split(', '))\n",
    "kw = list(set(keywords))"
   ]
  },
  {
   "cell_type": "code",
   "execution_count": null,
   "id": "d17937df",
   "metadata": {},
   "outputs": [],
   "source": [
    "# define spaces\n",
    "title_space = sl.TextSimilaritySpace(\n",
    "    text=movie.title, \n",
    "    model=\"sentence-transformers/all-MiniLM-L6-v2\"\n",
    ")\n",
    "\n",
    "rating_space = sl.NumberSpace(\n",
    "    number=movie.rating, \n",
    "    mode=sl.Mode.MAXIMUM, \n",
    "    min_value=0.0, \n",
    "    max_value=10.0\n",
    ")\n",
    "\n",
    "release_date_space = sl.RecencySpace(\n",
    "    timestamp=movie.release_date,\n",
    "    period_time_list=[\n",
    "        sl.PeriodTime(timedelta(days=4 * 365)),\n",
    "        sl.PeriodTime(timedelta(days=8 * 365)),\n",
    "        sl.PeriodTime(timedelta(days=16 * 365)),\n",
    "        sl.PeriodTime(timedelta(days=32 * 365))\n",
    "    ],\n",
    "    negative_filter=-0.25\n",
    ")\n",
    "\n",
    "runtime_space = sl.NumberSpace(\n",
    "    number=movie.runtime, \n",
    "    mode=sl.Mode.MAXIMUM, \n",
    "    min_value=0, \n",
    "    max_value=999,\n",
    ")\n",
    "\n",
    "overview_space = sl.TextSimilaritySpace(\n",
    "    text=movie.overview, \n",
    "    model=\"sentence-transformers/all-MiniLM-L6-v2\",\n",
    ")\n",
    "\n",
    "genres_space = sl.CategoricalSimilaritySpace(\n",
    "    category_input=movie.genres, \n",
    "    categories=list(genre_labels), \n",
    "    uncategorized_as_category=False\n",
    ")\n",
    "\n",
    "keywords_space = sl.CategoricalSimilaritySpace(\n",
    "    category_input=movie.keywords, \n",
    "    categories=kw,\n",
    "    uncategorized_as_category=False\n",
    ")"
   ]
  },
  {
   "cell_type": "code",
   "execution_count": null,
   "id": "69006d34",
   "metadata": {},
   "outputs": [],
   "source": [
    "# create the index\n",
    "movie_index = sl.Index(\n",
    "    spaces = [\n",
    "        title_space,\n",
    "        rating_space,\n",
    "        release_date_space,\n",
    "        runtime_space,\n",
    "        overview_space,\n",
    "        genres_space,\n",
    "        keywords_space\n",
    "    ]\n",
    ")"
   ]
  },
  {
   "cell_type": "code",
   "execution_count": null,
   "id": "ccc25ed8",
   "metadata": {},
   "outputs": [],
   "source": [
    "# parse data into schemas\n",
    "movie_df_parser = sl.DataFrameParser(schema=movie, mapping={movie.rating: \"vote_average\"})\n",
    "# user_df_parser = sl.JsonParser(schema=user)"
   ]
  },
  {
   "cell_type": "code",
   "execution_count": null,
   "id": "d2658edd",
   "metadata": {},
   "outputs": [],
   "source": [
    "# setup the source - In memory\n",
    "source_movie: sl.InMemorySource = sl.InMemorySource(movie, parser=movie_df_parser)\n",
    "# source_user: sl.InMemorySource = sl.InMemorySource(user, parser=user_df_parser)\n",
    "\n",
    "# set up the executor \n",
    "executor: sl.InMemoryExecutor = sl.InMemoryExecutor(sources=[source_movie], indices=[movie_index])\n",
    "\n",
    "# define the app\n",
    "app: sl.InMemoryApp = executor.run()"
   ]
  },
  {
   "cell_type": "code",
   "execution_count": null,
   "id": "ac5f6b76",
   "metadata": {},
   "outputs": [],
   "source": [
    "# load the actual data into our system\n",
    "source_movie.put([data[[\"id\", \"title\", \"vote_average\", \"release_date\", \"runtime\", \"overview\", \"genres\", \"keywords\"]].dropna()])\n",
    "\n",
    "# source_user.put(\n",
    "#     [\n",
    "#         {\n",
    "#             \"id\": \"user_1\", \n",
    "#             \"preference_title\": None, \n",
    "#             \"preference_rating\":None, \n",
    "#             \"preference_release_date\": None,\n",
    "#             \"preference_runtime\": None,\n",
    "#             \"preference_overview\": \"Hold up in a very securized bank\",\n",
    "#             \"preference_genres\": [\"action, thriller\", \"psychologic\"],\n",
    "#             \"preference_keywords\": None\n",
    "#         },\n",
    "#         {\n",
    "#             \"id\": \"user_2\", \n",
    "#             \"preference_title\": None, \n",
    "#             \"preference_rating\":None, \n",
    "#             \"preference_release_date\": None,\n",
    "#             \"preference_runtime\": None,\n",
    "#             \"preference_overview\": \"Drama about heritage in noble family\",\n",
    "#             \"preference_genres\": None,\n",
    "#             \"preference_keywords\": \"adultery\"\n",
    "#         },\n",
    "#         {\n",
    "#             \"id\": \"user_3\", \n",
    "#             \"preference_title\": None, \n",
    "#             \"preference_rating\":None, \n",
    "#             \"preference_release_date\": None,\n",
    "#             \"preference_runtime\": None,\n",
    "#             \"preference_overview\": \"Hold up in a very securized bank\",\n",
    "#             \"preference_genres\": [\"action, thriller\", \"psychologic\"],\n",
    "#             \"preference_keywords\": None  \n",
    "#         }\n",
    "#     ]\n",
    "# )"
   ]
  },
  {
   "cell_type": "code",
   "execution_count": null,
   "id": "c938130b",
   "metadata": {},
   "outputs": [],
   "source": [
    "# query object\n",
    "query = (\n",
    "    sl.Query(\n",
    "        movie_index,\n",
    "        weights={\n",
    "            title_space: sl.Param(\"title_space_weight\"),\n",
    "            rating_space: sl.Param(\"rating_space_weight\"),\n",
    "            release_date_space: sl.Param(\"release_date_space_weight\"),\n",
    "            runtime_space: sl.Param(\"runtime_space_weight\"),\n",
    "            overview_space: sl.Param(\"overview_space_weight\"),\n",
    "            genres_space: sl.Param(\"genres_space_weight\"),\n",
    "            keywords_space: sl.Param(\"keywords_space_weight\")\n",
    "        },\n",
    "    )\n",
    "    .find(movie)\n",
    "    .similar(title_space, sl.Param(\"title_query_text\"))\n",
    "    .similar(overview_space, sl.Param(\"overview_query_text\"))\n",
    "    .similar(genres_space, sl.Param(\"genres_query_text\"))\n",
    "    .similar(keywords_space, sl.Param(\"keywords_query_text\"))\n",
    "    .select_all()\n",
    "    .limit(sl.Param(\"limit\"))\n",
    ")"
   ]
  },
  {
   "cell_type": "code",
   "execution_count": null,
   "id": "bfa813bb",
   "metadata": {},
   "outputs": [],
   "source": [
    "result = app.query(\n",
    "    query,\n",
    "    title_query_text=\"love\",\n",
    "    overview_query_text=\"A love story between a man and a woman\",\n",
    "    genres_query_text=\"drama comedy romantic\",\n",
    "    keywords_query_text=\"love, romance, comedy\",\n",
    "    title_space_weight=1,\n",
    "    rating_space_weight=1,\n",
    "    release_date_space_weight=1,\n",
    "    runtime_space_weight=1,\n",
    "    overview_space_weight=1,\n",
    "    genres_space_weight=1,\n",
    "    keywords_space_weight=1,\n",
    "    limit=10,\n",
    ")\n",
    "\n",
    "df = sl.PandasConverter.to_pandas(result)\n",
    "sl.PandasConverter.format_date_column(df, \"release_date\", \"release_year\", year_only=True)\n",
    "df"
   ]
  },
  {
   "cell_type": "code",
   "execution_count": null,
   "id": "213c289d",
   "metadata": {},
   "outputs": [],
   "source": [
    "# fill this with your API key - this will drive param extraction\n",
    "import os\n",
    "openai_config = sl.OpenAIClientConfig(api_key=os.environ[\"OPENAI_API_KEY\"], model=\"gpt-4o\")\n"
   ]
  },
  {
   "cell_type": "code",
   "execution_count": null,
   "id": "8341e02d",
   "metadata": {},
   "outputs": [],
   "source": [
    "nlq_query = query.with_natural_query(sl.Param(\"natural_query\"), openai_config)\n"
   ]
  },
  {
   "cell_type": "code",
   "execution_count": null,
   "id": "88835b91",
   "metadata": {},
   "outputs": [],
   "source": [
    "nlq_result = app.query(\n",
    "    nlq_query,\n",
    "    natural_query=\"Best action movies in the year 2001\",\n",
    "    limit=10,\n",
    ")\n",
    "\n",
    "df = sl.PandasConverter.to_pandas(nlq_result)\n",
    "sl.PandasConverter.format_date_column(df, \"release_date\", \"release_year\", year_only=True)\n",
    "df"
   ]
  },
  {
   "cell_type": "code",
   "execution_count": null,
   "id": "8ab57c21",
   "metadata": {},
   "outputs": [],
   "source": [
    "context_items_from_retrieval: int = 5\n",
    "context_text: str = (\n",
    "    \"\\n\"\n",
    "    + \"\\n\".join(\n",
    "        f\n",
    "        for f in sl.PandasConverter.to_pandas(normal_recency_usefulness_result)[\"body\"].iloc[\n",
    "            :context_items_from_retrieval\n",
    "        ]\n",
    "    )\n",
    "    + \"\\n\"\n",
    ")\n",
    "\n",
    "rag_query = f\"\"\"<s>[INST] <<SYS>>\n",
    "You are a helpful, respectful and honest assistant. Always answer as helpfully as possible, while being safe.\n",
    "Your answers should not include any harmful, unethical, racist, sexist, toxic, dangerous, or illegal content.\n",
    "Please ensure that your responses are socially unbiased and positive in nature.\n",
    "\n",
    "If a question does not make any sense, or is not factually coherent, explain why instead of answering something not correct.\n",
    "If you don't know the answer to a question, please don't share false information.\n",
    "<</SYS>>\n",
    "\n",
    "Please answer the following question by using information from the provided context information!\n",
    "CONTEXT_INFORMATION: {context_text}\n",
    "QUESTION: {initial_query_text}\n",
    "[/INST]\"\"\""
   ]
  }
 ],
 "metadata": {
  "kernelspec": {
   "display_name": ".venv",
   "language": "python",
   "name": "python3"
  },
  "language_info": {
   "codemirror_mode": {
    "name": "ipython",
    "version": 3
   },
   "file_extension": ".py",
   "mimetype": "text/x-python",
   "name": "python",
   "nbconvert_exporter": "python",
   "pygments_lexer": "ipython3",
   "version": "3.13.0"
  }
 },
 "nbformat": 4,
 "nbformat_minor": 5
}
